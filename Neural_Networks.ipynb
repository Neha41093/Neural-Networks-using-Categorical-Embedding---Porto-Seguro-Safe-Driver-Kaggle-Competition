{
 "cells": [
  {
   "cell_type": "code",
   "execution_count": 13,
   "metadata": {},
   "outputs": [],
   "source": [
    "import numpy as np\n",
    "import pandas as pd\n",
    "np.random.seed(10)\n",
    "from tensorflow import set_random_seed\n",
    "set_random_seed(15)"
   ]
  },
  {
   "cell_type": "code",
   "execution_count": 14,
   "metadata": {},
   "outputs": [],
   "source": [
    "from keras.models import Sequential\n",
    "from keras.layers import Dense, Activation, Merge, Reshape, Dropout\n",
    "from keras.layers.embeddings import Embedding\n",
    "from sklearn.model_selection import StratifiedKFold\n",
    "from keras.utils import plot_model"
   ]
  },
  {
   "cell_type": "code",
   "execution_count": 47,
   "metadata": {},
   "outputs": [],
   "source": [
    "df_train = pd.read_csv('train.csv')\n",
    "df_test = pd.read_csv('test.csv')"
   ]
  },
  {
   "cell_type": "code",
   "execution_count": 69,
   "metadata": {},
   "outputs": [],
   "source": [
    "X_train, y_train = df_train.iloc[:,2:], df_train.target\n",
    "X_test = df_test.iloc[:,1:]"
   ]
  },
  {
   "cell_type": "code",
   "execution_count": 70,
   "metadata": {},
   "outputs": [
    {
     "data": {
      "text/plain": [
       "(595212, 57)"
      ]
     },
     "execution_count": 70,
     "metadata": {},
     "output_type": "execute_result"
    }
   ],
   "source": [
    "#Treating Missing Values -- train\n",
    "X_train = X_train.replace(-1, np.nan)\n",
    "X_train = X_train.replace(-1.0, np.nan)\n",
    "\n",
    "X_train = X_train.apply(lambda x: x.fillna(x.median()),axis=0)\n",
    "\n",
    "X_train.isnull().any().any()\n",
    "\n",
    "X_train.shape"
   ]
  },
  {
   "cell_type": "code",
   "execution_count": 71,
   "metadata": {},
   "outputs": [
    {
     "data": {
      "text/plain": [
       "(892816, 57)"
      ]
     },
     "execution_count": 71,
     "metadata": {},
     "output_type": "execute_result"
    }
   ],
   "source": [
    "#Treating Missing Values -- test\n",
    "X_test = X_test.replace(-1, np.nan)\n",
    "X_test = X_test.replace(-1.0, np.nan)\n",
    "\n",
    "X_test = X_test.apply(lambda x: x.fillna(x.median()),axis=0)\n",
    "\n",
    "X_test.isnull().any().any()\n",
    "\n",
    "X_test.shape"
   ]
  },
  {
   "cell_type": "code",
   "execution_count": 72,
   "metadata": {},
   "outputs": [],
   "source": [
    "cols_use = [c for c in X_train.columns if (not c.startswith('ps_calc_'))]\n",
    "\n",
    "X_train = X_train[cols_use]\n",
    "X_test = X_test[cols_use]\n",
    "\n",
    "col_vals_dict = {c: list(X_train[c].unique()) for c in X_train.columns if c.endswith('_cat')}"
   ]
  },
  {
   "cell_type": "code",
   "execution_count": 75,
   "metadata": {},
   "outputs": [
    {
     "name": "stdout",
     "output_type": "stream",
     "text": [
      "ps_ind_02_cat: 4 values\n",
      "ps_ind_05_cat: 7 values\n",
      "ps_car_01_cat: 12 values\n",
      "ps_car_04_cat: 10 values\n",
      "ps_car_06_cat: 18 values\n",
      "ps_car_09_cat: 5 values\n",
      "ps_car_10_cat: 3 values\n",
      "ps_car_11_cat: 104 values\n"
     ]
    }
   ],
   "source": [
    "embed_cols = []\n",
    "for c in col_vals_dict:\n",
    "    if len(col_vals_dict[c])>2:\n",
    "        embed_cols.append(c)\n",
    "        print(c + ': %d values' % len(col_vals_dict[c]))"
   ]
  },
  {
   "cell_type": "code",
   "execution_count": 76,
   "metadata": {},
   "outputs": [],
   "source": [
    "def build_embedding_network():\n",
    "    \n",
    "    models = []\n",
    "    \n",
    "    model_ps_ind_02_cat = Sequential()\n",
    "    model_ps_ind_02_cat.add(Embedding(4, 3, input_length=1))\n",
    "    model_ps_ind_02_cat.add(Reshape(target_shape=(3,)))\n",
    "    models.append(model_ps_ind_02_cat)\n",
    "    \n",
    "    model_ps_ind_05_cat = Sequential()\n",
    "    model_ps_ind_05_cat.add(Embedding(7, 5, input_length=1))\n",
    "    model_ps_ind_05_cat.add(Reshape(target_shape=(5,)))\n",
    "    models.append(model_ps_ind_05_cat)\n",
    "    \n",
    "    model_ps_car_01_cat = Sequential()\n",
    "    model_ps_car_01_cat.add(Embedding(12, 7, input_length=1))\n",
    "    model_ps_car_01_cat.add(Reshape(target_shape=(7,)))\n",
    "    models.append(model_ps_car_01_cat)\n",
    " \n",
    "    model_ps_car_04_cat = Sequential()\n",
    "    model_ps_car_04_cat.add(Embedding(10, 5, input_length=1))\n",
    "    model_ps_car_04_cat.add(Reshape(target_shape=(5,)))\n",
    "    models.append(model_ps_car_04_cat)\n",
    "    \n",
    "    model_ps_car_06_cat = Sequential()\n",
    "    model_ps_car_06_cat.add(Embedding(18, 8, input_length=1))\n",
    "    model_ps_car_06_cat.add(Reshape(target_shape=(8,)))\n",
    "    models.append(model_ps_car_06_cat)\n",
    "    \n",
    "    model_ps_car_09_cat = Sequential()\n",
    "    model_ps_car_09_cat.add(Embedding(5, 3, input_length=1))\n",
    "    model_ps_car_09_cat.add(Reshape(target_shape=(3,)))\n",
    "    models.append(model_ps_car_09_cat)\n",
    "    \n",
    "    model_ps_car_10_cat = Sequential()\n",
    "    model_ps_car_10_cat.add(Embedding(3, 2, input_length=1))\n",
    "    model_ps_car_10_cat.add(Reshape(target_shape=(2,)))\n",
    "    models.append(model_ps_car_10_cat)\n",
    "    \n",
    "    model_ps_car_11_cat = Sequential()\n",
    "    model_ps_car_11_cat.add(Embedding(104, 10, input_length=1))\n",
    "    model_ps_car_11_cat.add(Reshape(target_shape=(10,)))\n",
    "    models.append(model_ps_car_11_cat)\n",
    "    \n",
    "    model_rest = Sequential()\n",
    "    model_rest.add(Dense(16, input_dim=29))\n",
    "    models.append(model_rest)\n",
    "\n",
    "    model = Sequential()\n",
    "    model.add(Merge(models, mode='concat'))\n",
    "    model.add(Dense(80))\n",
    "    model.add(Activation('relu'))\n",
    "    model.add(Dropout(.35))\n",
    "    model.add(Dense(20))\n",
    "    model.add(Activation('relu'))\n",
    "    model.add(Dropout(.15))\n",
    "    model.add(Dense(10))\n",
    "    model.add(Activation('relu'))\n",
    "    model.add(Dropout(.15))\n",
    "    model.add(Dense(1))\n",
    "    model.add(Activation('sigmoid'))\n",
    "\n",
    "    model.compile(loss='binary_crossentropy', optimizer='adam')\n",
    "    \n",
    "    return model"
   ]
  },
  {
   "cell_type": "code",
   "execution_count": 77,
   "metadata": {},
   "outputs": [],
   "source": [
    "#converting data to list format to match the network structure\n",
    "def preproc(X_train, X_val, X_test):\n",
    "\n",
    "    input_list_train = []\n",
    "    input_list_val = []\n",
    "    input_list_test = []\n",
    "    \n",
    "    #the cols to be embedded: rescaling to range [0, # values)\n",
    "    for c in embed_cols:\n",
    "        raw_vals = np.unique(X_train[c])\n",
    "        val_map = {}\n",
    "        for i in range(len(raw_vals)):\n",
    "            val_map[raw_vals[i]] = i       \n",
    "        input_list_train.append(X_train[c].map(val_map).values)\n",
    "        input_list_val.append(X_val[c].map(val_map).fillna(0).values)\n",
    "        input_list_test.append(X_test[c].map(val_map).fillna(0).values)\n",
    "     \n",
    "    #the rest of the columns\n",
    "    other_cols = [c for c in X_train.columns if (not c in embed_cols)]\n",
    "    input_list_train.append(X_train[other_cols].values)\n",
    "    input_list_val.append(X_val[other_cols].values)\n",
    "    input_list_test.append(X_test[other_cols].values)\n",
    "    \n",
    "    return input_list_train, input_list_val, input_list_test    "
   ]
  },
  {
   "cell_type": "code",
   "execution_count": 78,
   "metadata": {},
   "outputs": [],
   "source": [
    "def ginic(actual, pred):\n",
    "    n = len(actual)\n",
    "    a_s = actual[np.argsort(pred)]\n",
    "    a_c = a_s.cumsum()\n",
    "    giniSum = a_c.sum() / a_c[-1] - (n + 1) / 2.0\n",
    "    return giniSum / n"
   ]
  },
  {
   "cell_type": "code",
   "execution_count": 79,
   "metadata": {},
   "outputs": [],
   "source": [
    "def gini_normalizedc(a, p):\n",
    "    return ginic(a, p) / ginic(a, a)"
   ]
  },
  {
   "cell_type": "code",
   "execution_count": 83,
   "metadata": {},
   "outputs": [
    {
     "name": "stderr",
     "output_type": "stream",
     "text": [
      "C:\\Users\\Neha Rawat\\Anaconda3\\envs\\deeplearning\\lib\\site-packages\\ipykernel_launcher.py:75: UserWarning: The `Merge` layer is deprecated and will be removed after 08/2017. Use instead layers from `keras.layers.merge`, e.g. `add`, `concatenate`, etc.\n"
     ]
    },
    {
     "name": "stdout",
     "output_type": "stream",
     "text": [
      "\n",
      "Cross-Validation fold 0 prediction gini score: 0.24919\n",
      "\n",
      "\n",
      "Cross-Validation fold 1 prediction gini score: 0.26202\n",
      "\n",
      "\n",
      "Cross-Validation fold 2 prediction gini score: 0.28213\n",
      "\n",
      "\n",
      "Cross-Validation fold 3 prediction gini score: 0.28604\n",
      "\n",
      "\n",
      "Cross-Validation fold 4 prediction gini score: 0.27516\n",
      "\n",
      "\n",
      "Cross-Validation fold 5 prediction gini score: 0.30048\n",
      "\n",
      "\n",
      "Cross-Validation fold 6 prediction gini score: 0.27698\n",
      "\n",
      "\n",
      "Cross-Validation fold 7 prediction gini score: 0.26111\n",
      "\n",
      "\n",
      "Cross-Validation fold 8 prediction gini score: 0.27916\n",
      "\n",
      "\n",
      "Cross-Validation fold 9 prediction gini score: 0.28874\n",
      "\n",
      "Mean validation gini score: 0.27610\n",
      "Full validation gini score: 0.27440\n"
     ]
    }
   ],
   "source": [
    "#network training\n",
    "K = 10\n",
    "runs_per_fold = 3\n",
    "n_epochs = 20\n",
    "\n",
    "cv_ginis = []\n",
    "full_val_preds = np.zeros(np.shape(X_train)[0])\n",
    "y_preds = np.zeros((np.shape(X_test)[0],K))\n",
    "\n",
    "kfold = StratifiedKFold(n_splits = K, \n",
    "                            random_state = 220, \n",
    "                            shuffle = True)    \n",
    "\n",
    "for i, (f_ind, outf_ind) in enumerate(kfold.split(X_train, y_train)):\n",
    "\n",
    "    X_train_f, X_val_f = X_train.loc[f_ind].copy(), X_train.loc[outf_ind].copy()\n",
    "    y_train_f, y_val_f = y_train[f_ind], y_train[outf_ind]\n",
    "    \n",
    "    X_test_f = X_test.copy()\n",
    "    \n",
    "    #upsampling adapted from kernel: \n",
    "    #https://www.kaggle.com/ogrellier/xgb-classifier-upsampling-lb-0-283\n",
    "    pos = (pd.Series(y_train_f == 1))\n",
    "    \n",
    "    # Add positive examples\n",
    "    X_train_f = pd.concat([X_train_f, X_train_f.loc[pos]], axis=0)\n",
    "    y_train_f = pd.concat([y_train_f, y_train_f.loc[pos]], axis=0)\n",
    "    \n",
    "    # Shuffle data\n",
    "    idx = np.arange(len(X_train_f))\n",
    "    np.random.shuffle(idx)\n",
    "    X_train_f = X_train_f.iloc[idx]\n",
    "    y_train_f = y_train_f.iloc[idx]\n",
    "    \n",
    "    #preprocessing\n",
    "    proc_X_train_f, proc_X_val_f, proc_X_test_f = preproc(X_train_f, X_val_f, X_test_f)\n",
    "    \n",
    "    #track oof prediction for cv scores\n",
    "    val_preds = 0\n",
    "    \n",
    "    for j in range(runs_per_fold):\n",
    "    \n",
    "        NN = build_embedding_network()\n",
    "        NN.fit(proc_X_train_f, y_train_f.values, epochs=n_epochs, batch_size=4200, verbose=0)\n",
    "   \n",
    "        val_preds += NN.predict(proc_X_val_f)[:,0] / runs_per_fold\n",
    "        y_preds[:,i] += NN.predict(proc_X_test_f)[:,0] / runs_per_fold\n",
    "        \n",
    "    full_val_preds[outf_ind] += val_preds\n",
    "        \n",
    "    cv_gini = gini_normalizedc(y_val_f.values, val_preds)\n",
    "    cv_ginis.append(cv_gini)\n",
    "    print ('\\nCross-Validation fold %i prediction gini score: %.5f\\n' %(i,cv_gini))\n",
    "    \n",
    "print('Mean validation gini score: %.5f' % np.mean(cv_ginis))\n",
    "print('Full validation gini score: %.5f' % gini_normalizedc(y_train.values, full_val_preds))\n",
    "\n",
    "#plot_model(NN, to_file='model.png') -- not working without pydot and graphviz"
   ]
  },
  {
   "cell_type": "code",
   "execution_count": 84,
   "metadata": {},
   "outputs": [],
   "source": [
    "y_pred_final = np.mean(y_preds, axis=1)\n",
    "df_sub = pd.DataFrame({'id' : df_test.id, \n",
    "                       'target' : y_pred_final},\n",
    "                       columns = ['id','target'])\n",
    "df_sub.to_csv('NN_Train_Submission2.csv', index=False)\n",
    "pd.DataFrame(full_val_preds).to_csv('NN_Train_preds.csv',index=False)"
   ]
  },
  {
   "cell_type": "code",
   "execution_count": null,
   "metadata": {},
   "outputs": [],
   "source": []
  }
 ],
 "metadata": {
  "kernelspec": {
   "display_name": "Python 3",
   "language": "python",
   "name": "python3"
  },
  "language_info": {
   "codemirror_mode": {
    "name": "ipython",
    "version": 3
   },
   "file_extension": ".py",
   "mimetype": "text/x-python",
   "name": "python",
   "nbconvert_exporter": "python",
   "pygments_lexer": "ipython3",
   "version": "3.6.3"
  }
 },
 "nbformat": 4,
 "nbformat_minor": 2
}
